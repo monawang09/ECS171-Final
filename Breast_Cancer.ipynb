{
 "cells": [
  {
   "cell_type": "markdown",
   "id": "144bc93a-be97-4d06-9e0b-65993a57a9d4",
   "metadata": {},
   "source": [
    "# Breast Cancer"
   ]
  },
  {
   "cell_type": "markdown",
   "id": "9428863f-9d69-41b6-a173-69eee76d92f0",
   "metadata": {},
   "source": [
    " Binary Classication for \n",
    "\n",
    " - Logistic Regression: Use method from skicklearn directly\n",
    " - Step2: Implement epochs and report best mse / accuracy and r2 \n",
    " - Step3: \n",
    " - **Loss Function**"
   ]
  },
  {
   "cell_type": "markdown",
   "id": "30dfb4b5-b136-43c3-ad4b-e380b5c09f30",
   "metadata": {},
   "source": [
    "## Logistic Regression "
   ]
  },
  {
   "cell_type": "markdown",
   "id": "ce72bed7-b330-4eec-b5a8-831dc525b30f",
   "metadata": {},
   "source": [
    "### Data Prep"
   ]
  },
  {
   "cell_type": "code",
   "execution_count": 45,
   "id": "96fb16b6-f26d-4068-a4ef-bcea8dc6bc49",
   "metadata": {
    "scrolled": true
   },
   "outputs": [
    {
     "name": "stdout",
     "output_type": "stream",
     "text": [
      "dataset size:569\n",
      "The accuracy is: 0.9655172413793104\n",
      "The accuracy is: 1.0\n",
      "The accuracy is: 0.9655172413793104\n",
      "The accuracy is: 0.9310344827586207\n",
      "The accuracy is: 1.0\n",
      "The accuracy is: 1.0\n",
      "The accuracy is: 0.9655172413793104\n",
      "The accuracy is: 1.0\n",
      "The accuracy is: 0.9655172413793104\n",
      "The accuracy is: 1.0\n",
      "The accuracy is: 0.8571428571428571\n",
      "The accuracy is: 1.0\n",
      "The accuracy is: 1.0\n",
      "The accuracy is: 1.0\n",
      "The accuracy is: 1.0\n",
      "The accuracy is: 0.9642857142857143\n",
      "The accuracy is: 0.9285714285714286\n",
      "The accuracy is: 0.9285714285714286\n",
      "The accuracy is: 1.0\n",
      "The accuracy is: 0.9642857142857143\n",
      "Best model's weights are: [[-0.36546851 -0.4179378  -0.35954261 -0.44254779 -0.16161523  0.57079884\n",
      "  -0.86362131 -0.99932266  0.08915844  0.25710655 -1.28684127  0.2755201\n",
      "  -0.6599993  -1.00271767 -0.30024631  0.7400309   0.11986507 -0.30429524\n",
      "   0.2980369   0.70359202 -0.99560489 -1.27679861 -0.80318041 -0.97927233\n",
      "  -0.64350094  0.01612441 -0.85356889 -0.8490369  -0.92568465 -0.47038657]] because it has the best accuracy of 1.0 \n",
      "\n",
      "Accuracy Score Mean: 0.9717980295566502\n"
     ]
    }
   ],
   "source": [
    "# Referemce to HW_1 Code  \n",
    "import numpy as np\n",
    "from sklearn.datasets import load_breast_cancer\n",
    "from sklearn.model_selection import train_test_split,KFold\n",
    "from sklearn.linear_model import LogisticRegression, SGDClassifier\n",
    "from sklearn.preprocessing import StandardScaler\n",
    "from sklearn.metrics import mean_squared_error\n",
    "import matplotlib.pyplot as plt\n",
    "import seaborn as sns\n",
    " \n",
    "\n",
    "def logisticRegression(X, y, epochs, folds,random_state=None):\n",
    "    models = []\n",
    "    accuracy_scores = []\n",
    "    \n",
    "    kf = KFold(n_splits=folds, shuffle=True, random_state=random_state)\n",
    "    for train_index, test_index in kf.split(X):\n",
    "        X_train, X_test = X[train_index], X[test_index]\n",
    "        y_train, y_test = y[train_index], y[test_index]\n",
    "\n",
    "        scaler = StandardScaler()\n",
    "        X_train_scaled = scaler.fit_transform(X_train)\n",
    "        X_test_scaled = scaler.transform(X_test)\n",
    "\n",
    "        model = SGDClassifier(loss=\"log_loss\", max_iter=epochs)\n",
    "        # model = LogisticRegression()\n",
    "        model.fit(X_train_scaled, y_train)\n",
    "        y_pred = model.predict(X_test_scaled)\n",
    "        \n",
    "        # Use method directly \n",
    "        model = LogisticRegression()\n",
    "        model.fit(X_train_scaled, y_train)\n",
    "        y_pred = model.predict(X_test_scaled)\n",
    "        \n",
    "        accuracy = accuracy_score(y_test, y_pred)\n",
    "        print(f\"The accuracy is: {accuracy}\")\n",
    "        \n",
    "        accuracy_scores.append(accuracy) \n",
    "        models.append(model) \n",
    "\n",
    "    max_accuracy_index = np.argmax(accuracy_scores)\n",
    "    best_model = models[max_accuracy_index]\n",
    "    average_accuracy = np.mean(accuracy_scores)\n",
    "\n",
    "    print(f\"Best model's weights are: {best_model.coef_} because it has the best accuracy of {max(accuracy_scores)} \\n\")\n",
    "    print(f\"Accuracy Score Mean: {average_accuracy}\")\n",
    "    \n",
    "    return average_accuracy, model\n",
    "\n",
    "\n",
    "breast_cancer = load_breast_cancer()\n",
    "X = breast_cancer.data\n",
    "y = breast_cancer.target\n",
    "print(\"dataset size:{}\".format(X.shape[0]))\n",
    "\n",
    "average_acc, best_model = logisticRegression(X, y, epochs=100, folds=20,random_state=42); \n",
    "\n"
   ]
  },
  {
   "cell_type": "code",
   "execution_count": 44,
   "id": "ab5574a7-c1d4-49b7-addf-01c68fb4efaf",
   "metadata": {},
   "outputs": [
    {
     "data": {
      "image/png": "[encoded data removed]",
      "text/plain": [
       "<Figure size 640x480 with 2 Axes>"
      ]
     },
     "metadata": {},
     "output_type": "display_data"
    }
   ],
   "source": [
    "\n",
    "scaler = StandardScaler()\n",
    "X_scaled = scaler.fit_transform(X)\n",
    "y_pred = best_model.predict(X_scaled)\n",
    "\n",
    "final_accuracy = accuracy_score(y, y_pred)\n",
    "print(f\"Final Accuracy on the entire dataset: {final_accuracy}\")\n",
    "cm = confusion_matrix(y, y_pred)\n",
    "\n",
    "sns.heatmap(cm, \n",
    "            annot=True,\n",
    "            fmt='g', \n",
    "            xticklabels=['Malignant', 'Benign'],\n",
    "            yticklabels=['Malignant', 'Benign'],\n",
    "            cmap='Blues')\n",
    "plt.xlabel('Prediction', fontsize=13)\n",
    "plt.ylabel('Actual', fontsize=13)\n",
    "plt.title('Confusion Matrix', fontsize=17)\n",
    "plt.show()"
   ]
  },
  {
   "cell_type": "code",
   "execution_count": null,
   "id": "2b0b472e-4024-4ec8-84a9-09785b145c8a",
   "metadata": {},
   "outputs": [],
   "source": []
  }
 ],
 "metadata": {
  "kernelspec": {
   "display_name": "Python 3 (ipykernel)",
   "language": "python",
   "name": "python3"
  },
  "language_info": {
   "codemirror_mode": {
    "name": "ipython",
    "version": 3
   },
   "file_extension": ".py",
   "mimetype": "text/x-python",
   "name": "python",
   "nbconvert_exporter": "python",
   "pygments_lexer": "ipython3",
   "version": "3.9.6"
  }
 },
 "nbformat": 4,
 "nbformat_minor": 5
}
