{
 "cells": [
  {
   "cell_type": "markdown",
   "id": "144bc93a-be97-4d06-9e0b-65993a57a9d4",
   "metadata": {},
   "source": [
    "# Breast Cancer"
   ]
  },
  {
   "cell_type": "markdown",
   "id": "9428863f-9d69-41b6-a173-69eee76d92f0",
   "metadata": {},
   "source": [
    " Binary Classication for \n",
    "\n",
    " - Logistic Regression: Use method from skicklearn directly\n",
    " - Step2: Implement epochs and report best mse / accuracy and r2 \n",
    " - Step3: \n",
    " - **Loss Function**\n",
    "\n",
    "\n",
    "\n",
    "Add Sensitivity / Recall\n",
    "HyperParameter Tuning?\n",
    "\n",
    "\n"
   ]
  },
  {
   "cell_type": "markdown",
   "id": "30dfb4b5-b136-43c3-ad4b-e380b5c09f30",
   "metadata": {},
   "source": [
    "## Logistic Regression "
   ]
  },
  {
   "cell_type": "markdown",
   "id": "ce72bed7-b330-4eec-b5a8-831dc525b30f",
   "metadata": {},
   "source": [
    "### Data Prep"
   ]
  },
  {
   "cell_type": "code",
   "execution_count": 34,
   "id": "96fb16b6-f26d-4068-a4ef-bcea8dc6bc49",
   "metadata": {
    "scrolled": true
   },
   "outputs": [
    {
     "name": "stdout",
     "output_type": "stream",
     "text": [
      "dataset size:569\n",
      "The accuracy for this fold is: 0.9310344827586207\n",
      "The accuracy for this fold is: 0.9655172413793104\n",
      "The accuracy for this fold is: 1.0\n",
      "The accuracy for this fold is: 0.9310344827586207\n",
      "The accuracy for this fold is: 1.0\n",
      "The accuracy for this fold is: 1.0\n",
      "The accuracy for this fold is: 0.9655172413793104\n",
      "The accuracy for this fold is: 1.0\n",
      "The accuracy for this fold is: 0.896551724137931\n",
      "The accuracy for this fold is: 0.9285714285714286\n",
      "The accuracy for this fold is: 0.8928571428571429\n",
      "The accuracy for this fold is: 1.0\n",
      "The accuracy for this fold is: 1.0\n",
      "The accuracy for this fold is: 1.0\n",
      "The accuracy for this fold is: 1.0\n",
      "The accuracy for this fold is: 0.9285714285714286\n",
      "The accuracy for this fold is: 0.9285714285714286\n",
      "The accuracy for this fold is: 0.9285714285714286\n",
      "The accuracy for this fold is: 1.0\n",
      "The accuracy for this fold is: 0.9285714285714286\n",
      "Accuracy Score Mean: 0.9612684729064037\n",
      "Accuracy on the entire dataset: 0.37258347978910367\n",
      "              precision    recall  f1-score   support\n",
      "\n",
      "           0       0.37      1.00      0.54       212\n",
      "           1       0.00      0.00      0.00       357\n",
      "\n",
      "    accuracy                           0.37       569\n",
      "   macro avg       0.19      0.50      0.27       569\n",
      "weighted avg       0.14      0.37      0.20       569\n",
      "\n"
     ]
    },
    {
     "data": {
      "image/png": "[encoded data removed]",
      "text/plain": [
       "<Figure size 640x480 with 2 Axes>"
      ]
     },
     "metadata": {},
     "output_type": "display_data"
    }
   ],
   "source": [
    "# Referemce to HW_1 Code  \n",
    "import numpy as np\n",
    "from sklearn.datasets import load_breast_cancer\n",
    "from sklearn.model_selection import train_test_split,KFold\n",
    "from sklearn.linear_model import LogisticRegression, SGDClassifier\n",
    "from sklearn.preprocessing import StandardScaler\n",
    "from sklearn.metrics import mean_squared_error\n",
    "import matplotlib.pyplot as plt\n",
    "import seaborn as sns\n",
    "from imblearn.over_sampling import SMOTE\n",
    "\n",
    " \n",
    "\n",
    "def logisticRegression(X, y, epochs, folds,random_state=None):\n",
    "    models = []\n",
    "    accuracy_scores = []\n",
    "    scaler = StandardScaler()\n",
    "    X_scaled = scaler.fit_transform(X)\n",
    "    \n",
    "    kf = KFold(n_splits=folds, shuffle=True, random_state=random_state)\n",
    "    for train_index, test_index in kf.split(X):\n",
    "        X_train, X_test = X[train_index], X[test_index]\n",
    "        y_train, y_test = y[train_index], y[test_index]\n",
    "\n",
    "        scaler = StandardScaler()\n",
    "        X_train_scaled = scaler.fit_transform(X_train)\n",
    "        X_test_scaled = scaler.transform(X_test)\n",
    "\n",
    "        smote = SMOTE(random_state=random_state)\n",
    "        X_train_resampled, y_train_resampled = smote.fit_resample(X_train_scaled, y_train)\n",
    "\n",
    "        model = SGDClassifier(loss=\"log_loss\", max_iter=epochs, class_weight='balanced')\n",
    "        model.fit(X_train_resampled, y_train_resampled)\n",
    "        y_pred = model.predict(X_test_scaled)\n",
    "        \n",
    "        # # Use method directly \n",
    "        # model = LogisticRegression()\n",
    "        # model.fit(X_train_scaled, y_train)\n",
    "        # y_pred = model.predict(X_test_scaled)\n",
    "        \n",
    "        accuracy = accuracy_score(y_test, y_pred)\n",
    "        print(f\"The accuracy for this fold is: {accuracy}\")\n",
    "        # Sensitivity // \n",
    "        \n",
    "        accuracy_scores.append(accuracy) \n",
    "        models.append(model) \n",
    "\n",
    "    max_accuracy_index = np.argmax(accuracy_scores)\n",
    "    best_model = models[max_accuracy_index]\n",
    "    average_accuracy = np.mean(accuracy_scores)\n",
    "\n",
    "    # print(f\"Best model's weights are: {best_model.coef_} because it has the best accuracy of {max(accuracy_scores)} \\n\")\n",
    "    print(f\"Accuracy Score Mean: {average_accuracy}\")\n",
    "    \n",
    "    return average_accuracy, best_model \n",
    "\n",
    "\n",
    "breast_cancer = load_breast_cancer()\n",
    "X = breast_cancer.data\n",
    "y = breast_cancer.target\n",
    "print(\"dataset size:{}\".format(X.shape[0]))\n",
    "\n",
    "average_acc,best_model = logisticRegression(X, y, epochs=100, folds=20,random_state=42); \n",
    "\n",
    "# X_scaled = scaler.fit_transform(X)\n",
    "\n",
    "scaler = StandardScaler()\n",
    "X_scaled = scaler.fit_transform(X)\n",
    "\n",
    "y_pred = best_model.predict(X)\n",
    "\n",
    "final_accuracy = accuracy_score(y, y_pred)\n",
    "class_report = classification_report(y, y_pred, zero_division=0)\n",
    "print(f\"Accuracy on the entire dataset: {final_accuracy}\")\n",
    "\n",
    "cm = confusion_matrix(y, y_pred)\n",
    "print(class_report)\n",
    "sns.heatmap(cm, \n",
    "            annot=True,\n",
    "            fmt='g', \n",
    "            xticklabels=['Malignant', 'Benign'],\n",
    "            yticklabels=['Malignant', 'Benign'],\n",
    "            cmap='Blues')\n",
    "plt.xlabel('Prediction', fontsize=13)\n",
    "plt.ylabel('Actual', fontsize=13)\n",
    "plt.title('Confusion Matrix', fontsize=17)\n",
    "plt.show()"
   ]
  },
  {
   "cell_type": "markdown",
   "id": "8162e575-c1b8-4378-9b9f-2f3c077d68b3",
   "metadata": {},
   "source": [
    "Result shows that model is bad at handeling class 1, indicating there are class imbalance during the training process"
   ]
  },
  {
   "cell_type": "code",
   "execution_count": null,
   "id": "01feb24a-b6ea-4e84-8714-8218df38877e",
   "metadata": {},
   "outputs": [],
   "source": []
  },
  {
   "cell_type": "code",
   "execution_count": null,
   "id": "aa2b6919-f332-433a-81f8-cd28f88ae99b",
   "metadata": {},
   "outputs": [],
   "source": []
  },
  {
   "cell_type": "markdown",
   "id": "5564659a-4585-4920-8c00-4aa481c80e3a",
   "metadata": {},
   "source": [
    "# Random Forest"
   ]
  },
  {
   "cell_type": "code",
   "execution_count": null,
   "id": "5ec1815e-8e9b-48b7-b62b-d7bcc3445fcc",
   "metadata": {},
   "outputs": [],
   "source": []
  },
  {
   "cell_type": "code",
   "execution_count": 3,
   "id": "1239953d-b9fa-4c31-89b4-09861eda088d",
   "metadata": {},
   "outputs": [
    {
     "name": "stdout",
     "output_type": "stream",
     "text": [
      "Accuracy: 0.9649\n",
      "Confusion Matrix:\n",
      "[[40  3]\n",
      " [ 1 70]]\n",
      "Classification Report:\n",
      "              precision    recall  f1-score   support\n",
      "\n",
      "           0       0.98      0.93      0.95        43\n",
      "           1       0.96      0.99      0.97        71\n",
      "\n",
      "    accuracy                           0.96       114\n",
      "   macro avg       0.97      0.96      0.96       114\n",
      "weighted avg       0.97      0.96      0.96       114\n",
      "\n"
     ]
    }
   ],
   "source": [
    "import numpy as np\n",
    "import pandas as pd\n",
    "from sklearn.datasets import load_breast_cancer\n",
    "from sklearn.model_selection import train_test_split\n",
    "from sklearn.ensemble import RandomForestClassifier\n",
    "from sklearn.metrics import accuracy_score, confusion_matrix, classification_report\n",
    "\n",
    "data = load_breast_cancer()\n",
    "X = data.data\n",
    "y = data.target\n",
    "\n",
    "X_train, X_test, y_train, y_test = train_test_split(X, y, test_size=0.2, random_state=42)\n",
    "\n",
    "rf_classifier = RandomForestClassifier(n_estimators=100, random_state=42)\n",
    "\n",
    "rf_classifier.fit(X_train, y_train)\n",
    "\n",
    "y_pred = rf_classifier.predict(X_test)\n",
    "\n",
    "accuracy = accuracy_score(y_test, y_pred)\n",
    "conf_matrix = confusion_matrix(y_test, y_pred)\n",
    "class_report = classification_report(y_test, y_pred)\n",
    "\n",
    "print(f\"Accuracy: {accuracy:.4f}\")\n",
    "print(\"Confusion Matrix:\")\n",
    "print(conf_matrix)\n",
    "print(\"Classification Report:\")\n",
    "print(class_report)\n"
   ]
  },
  {
   "cell_type": "raw",
   "id": "9c57cb13-32d9-44e7-a63b-06532ad1e9ce",
   "metadata": {},
   "source": [
    "Logic -> Accuracy comparison for logistic is larger than \n"
   ]
  },
  {
   "cell_type": "code",
   "execution_count": null,
   "id": "f6f82e49-b0fe-4314-b7d7-a6fa41cf206d",
   "metadata": {},
   "outputs": [],
   "source": []
  }
 ],
 "metadata": {
  "kernelspec": {
   "display_name": "Python 3 (ipykernel)",
   "language": "python",
   "name": "python3"
  },
  "language_info": {
   "codemirror_mode": {
    "name": "ipython",
    "version": 3
   },
   "file_extension": ".py",
   "mimetype": "text/x-python",
   "name": "python",
   "nbconvert_exporter": "python",
   "pygments_lexer": "ipython3",
   "version": "3.9.6"
  }
 },
 "nbformat": 4,
 "nbformat_minor": 5
}
