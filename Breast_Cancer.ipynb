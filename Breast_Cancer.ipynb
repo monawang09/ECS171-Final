{
 "cells": [
  {
   "cell_type": "markdown",
   "id": "144bc93a-be97-4d06-9e0b-65993a57a9d4",
   "metadata": {},
   "source": [
    "# Breast Cancer"
   ]
  },
  {
   "cell_type": "markdown",
   "id": "9428863f-9d69-41b6-a173-69eee76d92f0",
   "metadata": {},
   "source": [
    " Binary Classication for \n",
    "\n",
    " - Logistic Regression: Use method from skicklearn directly\n",
    " - Step2: Implement epochs and report best mse / accuracy and r2 \n",
    " - Step3: \n",
    " - **Loss Function**\n",
    "\n",
    "\n",
    "\n",
    "Add Sensitivity / Recall\n",
    "HyperParameter Tuning?\n",
    "\n",
    "\n"
   ]
  },
  {
   "cell_type": "markdown",
   "id": "30dfb4b5-b136-43c3-ad4b-e380b5c09f30",
   "metadata": {},
   "source": [
    "## Logistic Regression "
   ]
  },
  {
   "cell_type": "markdown",
   "id": "ce72bed7-b330-4eec-b5a8-831dc525b30f",
   "metadata": {},
   "source": [
    "### Data Prep"
   ]
  },
  {
   "cell_type": "code",
   "execution_count": 171,
   "id": "21fcc1d9-d0db-402b-b7c5-dda90f21ec44",
   "metadata": {},
   "outputs": [
    {
     "name": "stdout",
     "output_type": "stream",
     "text": [
      "Dataset size:569\n",
      "[0 0 0 1 1 0 1 0 1 0 1 1 0 1 0 1 0 1 1 1 1 1 1 1 0 1 1 1 0] 0\n",
      "The accuracy for this fold is: 0.9655172413793104\n",
      "1 !!!!!!!!!!!!!!!!!!!!!!!!!!!!!!!!!!!!!!!!!!!!!!!!!!!!!!!!!!!!!!!!!!!!!!!!!!!!!!!!\n",
      "[0 0 0 1 0 0 1 1 1 1 1 1 1 1 0 1 1 1 1 0 1 1 1 1 1 1 1 1 1] 1\n",
      "The accuracy for this fold is: 1.0\n",
      "[0 0 0 0 0 1 0 0 0 1 0 1 0 1 1 0 0 0 1 0 1 1 1 1 1 1 1 1 0] 2\n",
      "The accuracy for this fold is: 1.0\n",
      "[1 0 0 1 1 1 1 1 1 0 0 0 1 1 0 1 1 1 0 0 0 1 1 0 1 1 1 1 0] 3\n",
      "The accuracy for this fold is: 1.0\n",
      "[0 0 0 0 0 1 1 1 1 0 1 1 0 1 1 1 1 1 1 1 1 1 1 1 0 1 0 0 0] 4\n",
      "The accuracy for this fold is: 1.0\n",
      "[1 0 1 1 0 1 1 1 0 1 1 0 1 0 1 1 1 1 1 0 1 1 1 1 1 0 0 1 1] 5\n",
      "The accuracy for this fold is: 1.0\n",
      "[0 1 0 0 1 0 1 0 0 1 1 1 0 0 1 1 1 1 1 1 1 1 1 0 1 1 1 1 1] 6\n",
      "The accuracy for this fold is: 0.9655172413793104\n",
      "[0 0 0 0 1 1 0 1 1 1 0 1 0 0 1 1 1 1 1 1 1 1 1 1 1 1 1 1 1] 7\n",
      "The accuracy for this fold is: 1.0\n",
      "[0 0 0 0 0 0 1 1 1 0 1 0 1 1 0 1 0 0 1 1 1 1 1 1 1 1 0 1 1] 8\n",
      "The accuracy for this fold is: 0.9655172413793104\n",
      "[1 1 1 1 0 1 1 0 1 0 0 0 0 1 1 1 0 1 1 1 1 1 1 1 1 1 1 1] 9\n",
      "The accuracy for this fold is: 1.0\n",
      "[0 0 1 1 1 0 1 0 0 0 1 0 1 1 1 0 1 1 1 1 0 1 1 0 1 1 0 0] 10\n",
      "The accuracy for this fold is: 0.8928571428571429\n",
      "[1 1 0 1 1 1 1 1 0 0 1 1 0 1 1 0 0 0 1 1 1 0 0 1 1 0 0 0] 11\n",
      "The accuracy for this fold is: 1.0\n",
      "[0 1 0 1 0 1 0 0 0 1 1 1 1 1 1 1 0 1 1 1 1 1 1 0 1 0 1 0] 12\n",
      "The accuracy for this fold is: 0.9642857142857143\n",
      "[0 0 1 1 1 0 1 1 1 0 1 1 0 0 1 0 1 1 0 1 1 1 1 1 0 1 1 1] 13\n",
      "The accuracy for this fold is: 1.0\n",
      "[0 0 0 0 1 0 0 1 1 1 1 0 1 1 1 1 0 0 1 1 1 1 0 1 0 1 1 1] 14\n",
      "The accuracy for this fold is: 1.0\n",
      "[0 0 0 0 1 1 0 0 0 1 0 0 1 0 0 1 0 1 1 1 1 1 1 0 0 1 1 1] 15\n",
      "The accuracy for this fold is: 0.9642857142857143\n",
      "[0 0 0 0 0 1 0 0 0 0 1 1 0 0 1 1 0 1 1 1 0 1 1 1 1 1 0 1] 16\n",
      "The accuracy for this fold is: 0.9285714285714286\n",
      "[0 1 0 0 0 0 0 0 1 0 1 0 1 1 1 1 0 1 1 1 1 0 1 1 1 1 1 0] 17\n",
      "The accuracy for this fold is: 0.9642857142857143\n",
      "[0 0 0 1 1 0 1 1 0 1 1 1 1 0 1 0 1 0 1 1 1 1 1 1 1 1 1 0] 18\n",
      "The accuracy for this fold is: 1.0\n",
      "[1 1 1 0 0 1 1 0 1 1 1 0 0 1 1 1 1 0 0 0 0 1 0 1 1 1 1 1] 19\n",
      "The accuracy for this fold is: 0.9642857142857143\n",
      "1\n",
      "Accuracy Score Mean: 0.978756157635468\n",
      "Best parameters found: {'alpha': 0.01, 'max_iter': 1000}\n",
      "Accuracy on the entire dataset: 0.9824253075571178\n",
      "              precision    recall  f1-score   support\n",
      "\n",
      "           0       0.99      0.97      0.98       212\n",
      "           1       0.98      0.99      0.99       357\n",
      "\n",
      "    accuracy                           0.98       569\n",
      "   macro avg       0.98      0.98      0.98       569\n",
      "weighted avg       0.98      0.98      0.98       569\n",
      "\n"
     ]
    },
    {
     "data": {
      "image/png": "[encoded data removed]",
      "text/plain": [
       "<Figure size 640x480 with 2 Axes>"
      ]
     },
     "metadata": {},
     "output_type": "display_data"
    }
   ],
   "source": [
    "\n",
    "import numpy as np\n",
    "from sklearn.datasets import load_breast_cancer\n",
    "from sklearn.model_selection import KFold, GridSearchCV\n",
    "from sklearn.linear_model import SGDClassifier\n",
    "from sklearn.preprocessing import StandardScaler\n",
    "from sklearn.metrics import accuracy_score, classification_report, confusion_matrix\n",
    "import matplotlib.pyplot as plt\n",
    "import seaborn as sns\n",
    "from imblearn.over_sampling import SMOTE\n",
    "\n",
    "def logisticRegressionWithTuning(X, y, epochs, folds, random_state=None):\n",
    "    models = []\n",
    "    accuracy_scores = []\n",
    "    best_params_list = []\n",
    "    scalers = []\n",
    "    \n",
    "    kf = KFold(n_splits=folds, shuffle=True, random_state=random_state)\n",
    "    for train_index, test_index in kf.split(X):\n",
    "        X_train, X_test = X[train_index], X[test_index]\n",
    "        y_train, y_test = y[train_index], y[test_index]\n",
    "\n",
    "        scaler = StandardScaler()\n",
    "        X_train_scaled = scaler.fit_transform(X_train)\n",
    "        X_test_scaled = scaler.transform(X_test)\n",
    "\n",
    "        smote = SMOTE(random_state=random_state)\n",
    "        X_train_resampled, y_train_resampled = smote.fit_resample(X_train_scaled, y_train)\n",
    "\n",
    "        model = SGDClassifier(loss=\"log_loss\", class_weight='balanced', random_state=random_state)\n",
    "        param_grid = {\n",
    "            'alpha': [0.0001, 0.001, 0.01, 0.1, 1], \n",
    "            'max_iter': [1000, 2000, 3000] \n",
    "        }\n",
    "\n",
    "        if len(models) == 1:\n",
    "            print(best_model.predict(X_test_scaled)[3] , \"!!!!!!!!!!!!!!!!!!!!!!!!!!!!!!!!!!!!!!!!!!!!!!!!!!!!!!!!!!!!!!!!!!!!!!!!!!!!!!!!\")\n",
    "            \n",
    "\n",
    "        #take_care of hyperparameter tuning here -> \n",
    "        grid_search = GridSearchCV(estimator=model, param_grid=param_grid, cv=3, scoring='accuracy')\n",
    "        grid_search.fit(X_train_resampled, y_train_resampled)\n",
    "\n",
    "        best_model = grid_search.best_estimator_\n",
    "        y_pred = best_model.predict(X_test_scaled)\n",
    "        print(y_test, len(models))\n",
    "        \n",
    "        accuracy = accuracy_score(y_test, y_pred)\n",
    "        print(f\"The accuracy for this fold is: {accuracy}\")\n",
    "        \n",
    "        accuracy_scores.append(accuracy) \n",
    "        models.append(best_model) \n",
    "        best_params_list.append(grid_search.best_params_)\n",
    "        scalers.append(scaler) \n",
    "\n",
    "    max_accuracy_index = np.argmax(accuracy_scores)\n",
    "    best_model_overall = models[max_accuracy_index]\n",
    "    average_accuracy = np.mean(accuracy_scores)\n",
    "    best_params = best_params_list[max_accuracy_index]\n",
    "    best_scaler = scalers[max_accuracy_index]\n",
    "\n",
    "    print(max_accuracy_index)\n",
    "    print(f\"Accuracy Score Mean: {average_accuracy}\")\n",
    "    print(f\"Best parameters found: {grid_search.best_params_}\")\n",
    "    \n",
    "    return average_accuracy, best_model_overall, best_params,best_scaler\n",
    "\n",
    "breast_cancer = load_breast_cancer()\n",
    "X = breast_cancer.data\n",
    "y = breast_cancer.target\n",
    "print(\"Dataset size:{}\".format(X.shape[0]))\n",
    "\n",
    "average_acc, best_model, best_params, scaler = logisticRegressionWithTuning(X, y, epochs=100, folds=20, random_state=42)\n",
    "\n",
    "X_scaled = scaler.transform(X)\n",
    "smote = SMOTE(random_state=42)\n",
    "X_resampled, y_resampled = smote.fit_resample(X_scaled, y)\n",
    "\n",
    "best_model = SGDClassifier(loss=\"log_loss\", class_weight='balanced', \n",
    "                           alpha=best_params['alpha'], max_iter=best_params['max_iter'], random_state=42)\n",
    "best_model.fit(X_resampled, y_resampled)\n",
    "\n",
    "\n",
    "y_pred = best_model.predict(X_scaled)\n",
    "\n",
    "final_accuracy = accuracy_score(y, y_pred)\n",
    "class_report = classification_report(y, y_pred, zero_division=0)\n",
    "print(f\"Accuracy on the entire dataset: {final_accuracy}\")\n",
    "\n",
    "cm = confusion_matrix(y, y_pred)\n",
    "print(class_report)\n",
    "sns.heatmap(cm, \n",
    "            annot=True,\n",
    "            fmt='g', \n",
    "            xticklabels=['Malignant', 'Benign'],\n",
    "            yticklabels=['Malignant', 'Benign'],\n",
    "            cmap='Blues')\n",
    "plt.xlabel('Prediction', fontsize=13)\n",
    "plt.ylabel('Actual', fontsize=13)\n",
    "plt.title('Confusion Matrix', fontsize=17)\n",
    "plt.show()"
   ]
  },
  {
   "cell_type": "markdown",
   "id": "8162e575-c1b8-4378-9b9f-2f3c077d68b3",
   "metadata": {},
   "source": [
    "Result shows that model is bad at handeling class 1, indicating there are class imbalance during the training process"
   ]
  },
  {
   "cell_type": "code",
   "execution_count": 172,
   "id": "01feb24a-b6ea-4e84-8714-8218df38877e",
   "metadata": {},
   "outputs": [
    {
     "data": {
      "text/plain": [
       "['best_log_reg_model.pkl']"
      ]
     },
     "execution_count": 172,
     "metadata": {},
     "output_type": "execute_result"
    }
   ],
   "source": [
    "joblib.dump({'model': best_model, 'scaler': scaler}, 'best_log_reg_model.pkl')"
   ]
  },
  {
   "cell_type": "code",
   "execution_count": 173,
   "id": "96fb16b6-f26d-4068-a4ef-bcea8dc6bc49",
   "metadata": {
    "scrolled": true
   },
   "outputs": [
    {
     "name": "stdout",
     "output_type": "stream",
     "text": [
      "Dataset size:569\n",
      "The accuracy for this fold is: 0.9655172413793104\n",
      "The accuracy for this fold is: 1.0\n",
      "The accuracy for this fold is: 1.0\n",
      "The accuracy for this fold is: 1.0\n",
      "The accuracy for this fold is: 1.0\n",
      "The accuracy for this fold is: 1.0\n",
      "The accuracy for this fold is: 0.9655172413793104\n",
      "The accuracy for this fold is: 1.0\n",
      "The accuracy for this fold is: 0.9655172413793104\n",
      "The accuracy for this fold is: 1.0\n",
      "The accuracy for this fold is: 0.8928571428571429\n",
      "The accuracy for this fold is: 1.0\n",
      "The accuracy for this fold is: 0.9642857142857143\n",
      "The accuracy for this fold is: 1.0\n",
      "The accuracy for this fold is: 1.0\n",
      "The accuracy for this fold is: 0.9642857142857143\n",
      "The accuracy for this fold is: 0.9285714285714286\n",
      "The accuracy for this fold is: 0.9642857142857143\n",
      "The accuracy for this fold is: 1.0\n",
      "The accuracy for this fold is: 0.9642857142857143\n",
      "Accuracy Score Mean: 0.978756157635468\n",
      "Best parameters found: {'alpha': 0.01, 'max_iter': 1000}\n",
      "Accuracy on the entire dataset: 0.9789103690685413\n",
      "              precision    recall  f1-score   support\n",
      "\n",
      "           0       0.98      0.97      0.97       212\n",
      "           1       0.98      0.99      0.98       357\n",
      "\n",
      "    accuracy                           0.98       569\n",
      "   macro avg       0.98      0.98      0.98       569\n",
      "weighted avg       0.98      0.98      0.98       569\n",
      "\n"
     ]
    },
    {
     "data": {
      "image/png": "[encoded data removed]",
      "text/plain": [
       "<Figure size 640x480 with 2 Axes>"
      ]
     },
     "metadata": {},
     "output_type": "display_data"
    }
   ],
   "source": [
    "import numpy as np\n",
    "from sklearn.datasets import load_breast_cancer\n",
    "from sklearn.model_selection import KFold, GridSearchCV\n",
    "from sklearn.linear_model import SGDClassifier\n",
    "from sklearn.preprocessing import StandardScaler\n",
    "from sklearn.metrics import accuracy_score, classification_report, confusion_matrix\n",
    "import matplotlib.pyplot as plt\n",
    "import seaborn as sns\n",
    "from imblearn.over_sampling import SMOTE\n",
    "\n",
    "def logisticRegressionWithTuning(X, y, epochs, folds, random_state=None):\n",
    "    models = []\n",
    "    accuracy_scores = []\n",
    "    scaler = StandardScaler()\n",
    "    X_scaled = scaler.fit_transform(X)\n",
    "    \n",
    "    kf = KFold(n_splits=folds, shuffle=True, random_state=random_state)\n",
    "    for train_index, test_index in kf.split(X):\n",
    "        X_train, X_test = X[train_index], X[test_index]\n",
    "        y_train, y_test = y[train_index], y[test_index]\n",
    "\n",
    "        scaler = StandardScaler()\n",
    "        X_train_scaled = scaler.fit_transform(X_train)\n",
    "        X_test_scaled = scaler.transform(X_test)\n",
    "\n",
    "        smote = SMOTE(random_state=random_state)\n",
    "        X_train_resampled, y_train_resampled = smote.fit_resample(X_train_scaled, y_train)\n",
    "\n",
    "        model = SGDClassifier(loss=\"log_loss\", class_weight='balanced', random_state=random_state)\n",
    "        param_grid = {\n",
    "            'alpha': [0.0001, 0.001, 0.01, 0.1, 1], \n",
    "            'max_iter': [1000, 2000, 3000] \n",
    "        }\n",
    "\n",
    "        #take_care of hyperparameter tuning here -> \n",
    "        grid_search = GridSearchCV(estimator=model, param_grid=param_grid, cv=3, scoring='accuracy')\n",
    "        grid_search.fit(X_train_resampled, y_train_resampled)\n",
    "\n",
    "        best_model = grid_search.best_estimator_\n",
    "        y_pred = best_model.predict(X_test_scaled)\n",
    "        \n",
    "        accuracy = accuracy_score(y_test, y_pred)\n",
    "        print(f\"The accuracy for this fold is: {accuracy}\")\n",
    "        \n",
    "        accuracy_scores.append(accuracy) \n",
    "        models.append(best_model) \n",
    "\n",
    "    max_accuracy_index = np.argmax(accuracy_scores)\n",
    "    best_model_overall = models[max_accuracy_index]\n",
    "    average_accuracy = np.mean(accuracy_scores)\n",
    "\n",
    "    print(f\"Accuracy Score Mean: {average_accuracy}\")\n",
    "    print(f\"Best parameters found: {grid_search.best_params_}\")\n",
    "    \n",
    "    return average_accuracy, best_model_overall \n",
    "\n",
    "breast_cancer = load_breast_cancer()\n",
    "X = breast_cancer.data\n",
    "y = breast_cancer.target\n",
    "print(\"Dataset size:{}\".format(X.shape[0]))\n",
    "\n",
    "average_acc, best_model = logisticRegressionWithTuning(X, y, epochs=100, folds=20, random_state=42)\n",
    "\n",
    "scaler = StandardScaler()\n",
    "X_scaled = scaler.fit_transform(X)\n",
    "\n",
    "y_pred = best_model.predict(X_scaled)\n",
    "\n",
    "final_accuracy = accuracy_score(y, y_pred)\n",
    "class_report = classification_report(y, y_pred, zero_division=0)\n",
    "print(f\"Accuracy on the entire dataset: {final_accuracy}\")\n",
    "\n",
    "cm = confusion_matrix(y, y_pred)\n",
    "print(class_report)\n",
    "sns.heatmap(cm, \n",
    "            annot=True,\n",
    "            fmt='g', \n",
    "            xticklabels=['Malignant', 'Benign'],\n",
    "            yticklabels=['Malignant', 'Benign'],\n",
    "            cmap='Blues')\n",
    "plt.xlabel('Prediction', fontsize=13)\n",
    "plt.ylabel('Actual', fontsize=13)\n",
    "plt.title('Confusion Matrix', fontsize=17)\n",
    "plt.show()\n"
   ]
  },
  {
   "cell_type": "code",
   "execution_count": 174,
   "id": "17c29c4f-6b9b-42f9-a83b-5936ff988268",
   "metadata": {},
   "outputs": [
    {
     "data": {
      "text/plain": [
       "array([1.240e+01, 1.768e+01, 8.147e+01, 4.678e+02, 1.054e-01, 1.316e-01,\n",
       "       7.741e-02, 2.799e-02, 1.811e-01, 7.102e-02, 1.767e-01, 1.460e+00,\n",
       "       2.204e+00, 1.543e+01, 1.000e-02, 3.295e-02, 4.861e-02, 1.167e-02,\n",
       "       2.187e-02, 6.005e-03, 1.288e+01, 2.291e+01, 8.961e+01, 5.158e+02,\n",
       "       1.450e-01, 2.629e-01, 2.403e-01, 7.370e-02, 2.556e-01, 9.359e-02])"
      ]
     },
     "execution_count": 174,
     "metadata": {},
     "output_type": "execute_result"
    }
   ],
   "source": [
    "X_test[3]"
   ]
  },
  {
   "cell_type": "code",
   "execution_count": 175,
   "id": "d94e76fb-f624-4ab3-b665-e9db306b3e6e",
   "metadata": {},
   "outputs": [
    {
     "data": {
      "text/plain": [
       "array([1, 0, 0, 1, 1, 0, 0, 0, 1, 1, 1, 0, 1, 0, 1, 0, 1, 1, 1, 0, 0, 1,\n",
       "       0, 1, 1, 1, 1, 1, 1, 0, 1, 1, 1, 1, 1, 1, 0, 1, 0, 1, 1, 0, 1, 1,\n",
       "       1, 1, 1, 1, 1, 1, 0, 0, 1, 1, 1, 1, 1, 0, 0, 1, 1, 0, 0, 1, 1, 1,\n",
       "       0, 0, 1, 1, 0, 0, 1, 0, 1, 1, 1, 0, 1, 1, 0, 1, 0, 0, 0, 0, 0, 0,\n",
       "       1, 1, 1, 1, 1, 1, 1, 1, 0, 0, 1, 0, 0, 1, 0, 0, 1, 1, 1, 0, 1, 1,\n",
       "       0, 1, 1, 0])"
      ]
     },
     "execution_count": 175,
     "metadata": {},
     "output_type": "execute_result"
    }
   ],
   "source": [
    "y_test"
   ]
  },
  {
   "cell_type": "markdown",
   "id": "5564659a-4585-4920-8c00-4aa481c80e3a",
   "metadata": {},
   "source": [
    "# Random Forest"
   ]
  },
  {
   "cell_type": "code",
   "execution_count": 176,
   "id": "1239953d-b9fa-4c31-89b4-09861eda088d",
   "metadata": {},
   "outputs": [
    {
     "name": "stdout",
     "output_type": "stream",
     "text": [
      "Best parameters found: {'max_features': 'log2', 'n_estimators': 50}\n",
      "Accuracy: 0.9649\n",
      "Confusion Matrix:\n",
      "[[40  3]\n",
      " [ 1 70]]\n",
      "Classification Report:\n",
      "              precision    recall  f1-score   support\n",
      "\n",
      "           0       0.98      0.93      0.95        43\n",
      "           1       0.96      0.99      0.97        71\n",
      "\n",
      "    accuracy                           0.96       114\n",
      "   macro avg       0.97      0.96      0.96       114\n",
      "weighted avg       0.97      0.96      0.96       114\n",
      "\n"
     ]
    }
   ],
   "source": [
    "import numpy as np\n",
    "import pandas as pd\n",
    "from sklearn.datasets import load_breast_cancer\n",
    "from sklearn.model_selection import train_test_split, GridSearchCV\n",
    "from sklearn.ensemble import RandomForestClassifier\n",
    "from sklearn.metrics import accuracy_score, confusion_matrix, classification_report\n",
    "\n",
    "data = load_breast_cancer()\n",
    "X = data.data\n",
    "y = data.target\n",
    "\n",
    "X_train, X_test, y_train, y_test = train_test_split(X, y, test_size=0.2, random_state=42)\n",
    "\n",
    "rf_classifier = RandomForestClassifier(random_state=42)\n",
    "\n",
    "param_grid = {\n",
    "    'n_estimators': [50, 100, 200,300],\n",
    "    'max_features': ['sqrt', 'log2']\n",
    "}\n",
    "\n",
    "grid_search = GridSearchCV(estimator=rf_classifier, param_grid=param_grid, cv=3, n_jobs=-1, scoring='accuracy')\n",
    "grid_search.fit(X_train, y_train)\n",
    "\n",
    "best_rf_classifier = grid_search.best_estimator_\n",
    "\n",
    "y_pred = best_rf_classifier.predict(X_test)\n",
    "\n",
    "accuracy = accuracy_score(y_test, y_pred)\n",
    "conf_matrix = confusion_matrix(y_test, y_pred)\n",
    "class_report = classification_report(y_test, y_pred)\n",
    "\n",
    "print(f\"Best parameters found: {grid_search.best_params_}\")\n",
    "print(f\"Accuracy: {accuracy:.4f}\")\n",
    "print(\"Confusion Matrix:\")\n",
    "print(conf_matrix)\n",
    "print(\"Classification Report:\")\n",
    "print(class_report)\n"
   ]
  },
  {
   "cell_type": "code",
   "execution_count": 177,
   "id": "91d98dab-4a0a-4ef0-89b8-b21febf8248f",
   "metadata": {},
   "outputs": [
    {
     "name": "stdout",
     "output_type": "stream",
     "text": [
      "Accuracy on entire dataset: 0.9912\n",
      "Confusion Matrix on entire dataset:\n",
      "[[208   4]\n",
      " [  1 356]]\n",
      "Classification Report on entire dataset:\n",
      "              precision    recall  f1-score   support\n",
      "\n",
      "           0       1.00      0.98      0.99       212\n",
      "           1       0.99      1.00      0.99       357\n",
      "\n",
      "    accuracy                           0.99       569\n",
      "   macro avg       0.99      0.99      0.99       569\n",
      "weighted avg       0.99      0.99      0.99       569\n",
      "\n"
     ]
    },
    {
     "data": {
      "image/png": "[encoded data removed]",
      "text/plain": [
       "<Figure size 640x480 with 2 Axes>"
      ]
     },
     "metadata": {},
     "output_type": "display_data"
    }
   ],
   "source": [
    "y_pred_all = best_rf_classifier.predict(X)\n",
    "\n",
    "accuracy_all = accuracy_score(y, y_pred_all)\n",
    "conf_matrix_all = confusion_matrix(y, y_pred_all)\n",
    "class_report_all = classification_report(y, y_pred_all)\n",
    "\n",
    "print(f\"Accuracy on entire dataset: {accuracy_all:.4f}\")\n",
    "print(\"Confusion Matrix on entire dataset:\")\n",
    "print(conf_matrix_all)\n",
    "print(\"Classification Report on entire dataset:\")\n",
    "print(class_report_all)\n",
    "\n",
    "\n",
    "cm = confusion_matrix(y, y_pred_all)\n",
    "sns.heatmap(cm, \n",
    "            annot=True,\n",
    "            fmt='g', \n",
    "            xticklabels=['Malignant', 'Benign'],\n",
    "            yticklabels=['Malignant', 'Benign'],\n",
    "            cmap='Blues')\n",
    "plt.xlabel('Prediction', fontsize=13)\n",
    "plt.ylabel('Actual', fontsize=13)\n",
    "plt.title('Confusion Matrix', fontsize=17)\n",
    "plt.show()\n",
    "\n"
   ]
  },
  {
   "cell_type": "code",
   "execution_count": 178,
   "id": "520b8ad7-3a4c-4f38-b6b8-9c70f893f530",
   "metadata": {},
   "outputs": [
    {
     "name": "stdout",
     "output_type": "stream",
     "text": [
      "[1.247e+01 1.860e+01 8.109e+01 4.819e+02 9.965e-02 1.058e-01 8.005e-02\n",
      " 3.821e-02 1.925e-01 6.373e-02 3.961e-01 1.044e+00 2.497e+00 3.029e+01\n",
      " 6.953e-03 1.911e-02 2.701e-02 1.037e-02 1.782e-02 3.586e-03 1.497e+01\n",
      " 2.464e+01 9.605e+01 6.779e+02 1.426e-01 2.378e-01 2.671e-01 1.015e-01\n",
      " 3.014e-01 8.750e-02] 1\n"
     ]
    }
   ],
   "source": [
    "sample_index = 0 \n",
    "sample_data = X_test[sample_index]\n",
    "sample_target = y_test[sample_index]\n",
    "print(sample_data, sample_target)"
   ]
  },
  {
   "cell_type": "code",
   "execution_count": 179,
   "id": "8f804c83-7161-48ef-b9df-ee9288fb4018",
   "metadata": {},
   "outputs": [
    {
     "name": "stdout",
     "output_type": "stream",
     "text": [
      "Features array:\n",
      "[[-0.07749188 -0.61709809 -0.13636937 -0.16930799 -1.99110011 -0.96954628\n",
      "  -0.84413868 -0.92254408  0.01196477 -1.03874319 -0.88821726 -1.16113595\n",
      "  -0.72261656 -0.57425056 -1.23838851 -0.68782493 -0.72821969 -1.12978304\n",
      "  -0.88596178 -0.63512966 -0.24439524 -0.63468612 -0.19213452 -0.29286386\n",
      "  -1.67154149 -0.34868208 -0.65149406 -0.80441101 -0.35799133 -0.38258723]]\n",
      "Logistic Regression Prediction: 1\n",
      "Random Forest Prediction: 1\n"
     ]
    }
   ],
   "source": [
    "import joblib\n",
    "import numpy as np\n",
    "\n",
    "# Load the models\n",
    "log_reg_model, log_reg_model_scaler = joblib.load('best_log_reg_model.pkl').values()\n",
    "rf_model = joblib.load('rf_model.pkl')\n",
    "\n",
    "#sample_input = \"1.380e+01 1.579e+01 9.043e+01 5.841e+02 1.007e-01 1.280e-01 7.789e-02 5.069e-02 1.662e-01 6.566e-02 2.787e-01 6.205e-01 1.957e+00 2.335e+01 4.717e-03 2.065e-02 1.759e-02 9.206e-03 1.220e-02 3.130e-03 1.657e+01 2.086e+01 1.103e+02 8.124e+02 1.411e-01 3.542e-01 2.779e-01 1.383e-01 2.589e-01 1.030e-01\"\n",
    "sample_input = \"1.390e+01 1.662e+01 8.897e+01 5.994e+02 6.828e-02 5.319e-02 2.224e-02 1.339e-02 1.813e-01 5.536e-02 1.555e-01 5.762e-01 1.392e+00 1.403e+01 3.308e-03 1.315e-02 9.904e-03 4.832e-03 1.316e-02 2.095e-03 1.514e+01 2.180e+01 1.012e+02 7.189e+02 9.384e-02 2.006e-01 1.384e-01 6.222e-02 2.679e-01 7.698e-02\"\n",
    "#sample_input = \"1.546e+01 1.948e+01 1.017e+02 7.489e+02 1.092e-01 1.223e-01 1.466e-01 8.087e-02 1.931e-01 5.796e-02 4.743e-01 7.859e-01 3.094e+00 4.831e+01 6.240e-03 1.484e-02 2.813e-02 1.093e-02 1.397e-02 2.461e-03 1.926e+01 2.600e+01 1.249e+02 1.156e+03 1.546e-01 2.394e-01 3.791e-01 1.514e-01 2.837e-01 8.019e-02\"\n",
    "\n",
    "sample_input = sample_input.replace('\\n', ' ').replace('\\r', ' ').strip()\n",
    "features = np.fromstring(sample_input, sep=' ').reshape(1, -1)\n",
    "features = log_reg_model_scaler.transform(features)\n",
    "print(\"Features array:\")\n",
    "print(features)\n",
    "\n",
    "log_reg_prediction = log_reg_model.predict(features)[0]\n",
    "rf_prediction = rf_model.predict(features)[0]\n",
    "\n",
    "print(f\"Logistic Regression Prediction: {log_reg_prediction}\")\n",
    "print(f\"Random Forest Prediction: {rf_prediction}\")\n"
   ]
  },
  {
   "cell_type": "code",
   "execution_count": null,
   "id": "01d7bffa-3137-4b9d-9eca-595fddc6c1c5",
   "metadata": {},
   "outputs": [],
   "source": []
  }
 ],
 "metadata": {
  "kernelspec": {
   "display_name": "Python 3 (ipykernel)",
   "language": "python",
   "name": "python3"
  },
  "language_info": {
   "codemirror_mode": {
    "name": "ipython",
    "version": 3
   },
   "file_extension": ".py",
   "mimetype": "text/x-python",
   "name": "python",
   "nbconvert_exporter": "python",
   "pygments_lexer": "ipython3",
   "version": "3.9.6"
  }
 },
 "nbformat": 4,
 "nbformat_minor": 5
}
